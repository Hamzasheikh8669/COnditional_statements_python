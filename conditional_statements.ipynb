{
  "nbformat": 4,
  "nbformat_minor": 0,
  "metadata": {
    "colab": {
      "provenance": []
    },
    "kernelspec": {
      "name": "python3",
      "display_name": "Python 3"
    },
    "language_info": {
      "name": "python"
    }
  },
  "cells": [
    {
      "cell_type": "code",
      "execution_count": null,
      "metadata": {
        "colab": {
          "base_uri": "https://localhost:8080/"
        },
        "id": "69qm_vhV25N-",
        "outputId": "8f8477e6-b4ce-442b-8df5-6d5b7eccc43a"
      },
      "outputs": [
        {
          "output_type": "stream",
          "name": "stdout",
          "text": [
            "Enter user name: Hamza\n",
            "Enter password: 123\n",
            "valid user\n"
          ]
        }
      ],
      "source": [
        "user: str = input(\"Enter user name: \")\n",
        "password: str = input(\"Enter password: \")\n",
        "if(user == \"Hamza\" or user == \"admin\" or user == \"Asad\") and password == \"123\":\n",
        "  print(\"valid user\")\n",
        "else:\n",
        "  print(\"invalid user\")"
      ]
    },
    {
      "cell_type": "code",
      "source": [
        "# prompt: print a sumn of 2  number\n",
        "\n",
        "num1 = int(input(\"Enter first number: \"))\n",
        "num2 = int(input(\"Enter second number: \"))\n",
        "\n",
        "sum = num1 + num2\n",
        "\n",
        "print(\"Sum:\", sum)\n"
      ],
      "metadata": {
        "colab": {
          "base_uri": "https://localhost:8080/"
        },
        "id": "pwEt3nsLhENy",
        "outputId": "6ba5ae8e-2542-4f43-f6c0-c49bbb921e7d"
      },
      "execution_count": null,
      "outputs": [
        {
          "output_type": "stream",
          "name": "stdout",
          "text": [
            "Enter first number: 3\n",
            "Enter second number: 2\n",
            "Sum: 5\n"
          ]
        }
      ]
    },
    {
      "cell_type": "code",
      "source": [
        "print(\"pakistan\") if True  else print(\"india\")"
      ],
      "metadata": {
        "colab": {
          "base_uri": "https://localhost:8080/"
        },
        "id": "6-f1yXU27z2E",
        "outputId": "6365b94b-cefa-4804-bf58-dd101adae294"
      },
      "execution_count": null,
      "outputs": [
        {
          "output_type": "stream",
          "name": "stdout",
          "text": [
            "pakistan\n"
          ]
        }
      ]
    },
    {
      "cell_type": "code",
      "source": [
        "percentage : int = int(input(\"enter percentage: \")) #input\n",
        "\n",
        "\n",
        "if percentage >= 80:\n",
        "  print(\"A+\")\n",
        "elif percentage >= 70:\n",
        "  print(\"A\")\n",
        "elif percentage >= 60:\n",
        "  print(\"B\")\n",
        "elif percentage >= 50:\n",
        "  print(\"C\")\n",
        "elif percentage >= 40:\n",
        "  print(\"D\")\n",
        "else:\n",
        "  print(\"Fail\")\n",
        "\n",
        "\n",
        "print(\"Hello\")"
      ],
      "metadata": {
        "colab": {
          "base_uri": "https://localhost:8080/"
        },
        "id": "Duz2I-QQ9SS6",
        "outputId": "4e141105-84a6-4866-f500-4506faf63848"
      },
      "execution_count": null,
      "outputs": [
        {
          "output_type": "stream",
          "name": "stdout",
          "text": [
            "enter percentage: 89\n",
            "A+\n",
            "Hello\n"
          ]
        }
      ]
    },
    {
      "cell_type": "code",
      "source": [
        "percentage :int = int(input(\"enter percentage: \"))\n",
        "\n",
        "if percentage >= 0:\n",
        "  print(\"fail\")\n",
        "elif percentage >= 40:\n",
        "  print(\"D\")\n",
        "elif percentage >= 50:\n",
        "  print(\"C\")\n",
        "elif percentage >= 60:\n",
        "  print(\"B\")\n",
        "elif percentage := 70:\n",
        "  print(\"A\")\n",
        "elif percentage := 80:\n",
        "  print(\"A+\")\n",
        "\n",
        "\n",
        "\n",
        "\n",
        "\n",
        "\n"
      ],
      "metadata": {
        "id": "hfS6A-5L_iD5",
        "colab": {
          "base_uri": "https://localhost:8080/"
        },
        "outputId": "5b1b1347-cea2-48a4-e97b-5ba4f74c0d66"
      },
      "execution_count": 7,
      "outputs": [
        {
          "output_type": "stream",
          "name": "stdout",
          "text": [
            "enter percentage: 89\n",
            "fail\n"
          ]
        }
      ]
    },
    {
      "cell_type": "code",
      "source": [
        "grade: int = int(input(\"enter grade: \"))\n",
        "\n",
        "if grade >= 80:\n",
        "  print(\"A+\")\n",
        "elif grade >= 70:\n",
        "  print(\"A\")\n",
        "elif grade >= 60:\n",
        "  print(\"B\")"
      ],
      "metadata": {
        "id": "7MHNCD1hhgdg",
        "colab": {
          "base_uri": "https://localhost:8080/"
        },
        "outputId": "41f0c10c-5375-4753-b772-5df0e27c9376"
      },
      "execution_count": 8,
      "outputs": [
        {
          "output_type": "stream",
          "name": "stdout",
          "text": [
            "enter grade: 77\n",
            "A\n"
          ]
        }
      ]
    },
    {
      "cell_type": "code",
      "source": [
        "trafficLight : str = \"Red\";\n",
        "if trafficLight == \"Green\":\n",
        "  print(\"Go\")\n",
        "elif trafficLight == \"Yellow\":\n",
        "  print(\"Wait\")\n",
        "elif trafficLight == \"Red\":\n",
        "  print(\"Stop\")"
      ],
      "metadata": {
        "colab": {
          "base_uri": "https://localhost:8080/"
        },
        "id": "Y2i_g7UhiFdE",
        "outputId": "1d368b17-211a-41a5-eae6-66f043a07b7c"
      },
      "execution_count": 9,
      "outputs": [
        {
          "output_type": "stream",
          "name": "stdout",
          "text": [
            "Stop\n"
          ]
        }
      ]
    },
    {
      "cell_type": "code",
      "source": [
        "age: int = 18\n",
        "if age >= 18:\n",
        "  print(\"Adult\")\n",
        "else:\n",
        "  print(\"Child\")\n",
        "#"
      ],
      "metadata": {
        "colab": {
          "base_uri": "https://localhost:8080/"
        },
        "id": "UZmaN77Rk3yk",
        "outputId": "844e7d9a-8c61-43d1-a4ea-cf2974360fd4"
      },
      "execution_count": 10,
      "outputs": [
        {
          "output_type": "stream",
          "name": "stdout",
          "text": [
            "Adult\n"
          ]
        }
      ]
    },
    {
      "cell_type": "code",
      "source": [
        "num: int = 101;\n",
        "if num % 2 == 0:\n",
        "  print(\"Even\")\n",
        "else:\n",
        "  print(\"Odd\")\n",
        "#"
      ],
      "metadata": {
        "colab": {
          "base_uri": "https://localhost:8080/"
        },
        "id": "TKOZHGbMoQMR",
        "outputId": "a784cb6d-11ea-4511-bfb4-ff03a8244635"
      },
      "execution_count": 11,
      "outputs": [
        {
          "output_type": "stream",
          "name": "stdout",
          "text": [
            "Odd\n"
          ]
        }
      ]
    },
    {
      "cell_type": "code",
      "source": [
        "temperatur : int = 30;\n",
        "if temperatur >= 10 and temperatur < 20:\n",
        "  print(\"cold\")\n",
        "elif temperatur >= 20 and temperatur < 30:\n",
        "  print(\"feel normal\")\n",
        "elif temperatur >= 30 and temperatur < 40:\n",
        "    print(\"hot\")\n",
        "else:\n",
        "  print(\"hottest\")"
      ],
      "metadata": {
        "colab": {
          "base_uri": "https://localhost:8080/"
        },
        "id": "ynRthMNNolRB",
        "outputId": "249c2b7f-373a-44ad-e8c7-40a191766b1f"
      },
      "execution_count": 12,
      "outputs": [
        {
          "output_type": "stream",
          "name": "stdout",
          "text": [
            "hot\n"
          ]
        }
      ]
    },
    {
      "cell_type": "code",
      "source": [
        "num1 : int = int(input(\"enter first number: \"))\n",
        "num2 : int = int(input(\"enter second number:  \"))\n",
        "num3 : int = int(input(\"enter third number:  \"))\n",
        "\n",
        "if num1 > num2 and num1 > num3:\n",
        "  print(\"num1 is greater\")\n",
        "elif num2 > num1 and num2 > num3:\n",
        "  print(\"num2 is greater\")\n",
        "else:\n",
        "  print(\"num3 is greater\")\n"
      ],
      "metadata": {
        "colab": {
          "base_uri": "https://localhost:8080/"
        },
        "id": "l83q55DVk0el",
        "outputId": "37fa71de-7354-41cd-f59b-3794fc1b4765"
      },
      "execution_count": 13,
      "outputs": [
        {
          "output_type": "stream",
          "name": "stdout",
          "text": [
            "enter first number: 78\n",
            "enter second number:  88\n",
            "enter third number:  77\n",
            "num2 is greater\n"
          ]
        }
      ]
    },
    {
      "cell_type": "code",
      "source": [
        "# prompt: WAP to c\n",
        "# A\n",
        "# heck\n",
        "# p\n",
        "# if a number is a multiple of 7 or not.\n",
        "\n",
        "number = int(input(\"Enter a number: \"))\n",
        "\n",
        "if number % 7 == 0:\n",
        "  print(f\"{number} is a multiple of 7.\")\n",
        "else:\n",
        "  print(f\"{number} is not a multiple of 7.\")\n"
      ],
      "metadata": {
        "colab": {
          "base_uri": "https://localhost:8080/"
        },
        "id": "ABXPTAC-rK3p",
        "outputId": "ad753926-d1a1-44b0-eb27-361f9ad11dcb"
      },
      "execution_count": 14,
      "outputs": [
        {
          "output_type": "stream",
          "name": "stdout",
          "text": [
            "Enter a number: 77\n",
            "77 is a multiple of 7.\n"
          ]
        }
      ]
    }
  ]
}